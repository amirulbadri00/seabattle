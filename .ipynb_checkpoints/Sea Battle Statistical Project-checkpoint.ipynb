{
 "cells": [
  {
   "cell_type": "markdown",
   "id": "5eb96ea6",
   "metadata": {},
   "source": [
    "# Sea Battle Statistical (Self) Project\n",
    "\n",
    "Sea Battle is an online game on a mobile gaming app called 'Plato'. It is an online version of the traditional board game 'Battleship' with slight modifications.\n",
    "\n",
    "Players are given 6 ships of different sizes and they are arranged on a 10x10 square tiles before the game commence. Each player can shoot one tile per turn. If the shot hits a ship, the shooting player may perform another shot. The first player to shoot down all of the enemy's ship wins the game.\n",
    "\n",
    "This investigation aims to find the probability of hitting a ship on any square tiles based on the position of enemies' ships from completed games."
   ]
  },
  {
   "cell_type": "code",
   "execution_count": 12,
   "id": "537f00ab",
   "metadata": {},
   "outputs": [],
   "source": [
    "# importing relevant packages\n",
    "\n",
    "import numpy as np\n",
    "import matplotlib.pyplot as plt\n",
    "\n",
    "ddir = '/Users/XcaliburZee/Desktop/Matches/'"
   ]
  },
  {
   "cell_type": "code",
   "execution_count": 57,
   "id": "37cee1b0",
   "metadata": {},
   "outputs": [],
   "source": [
    "# hashtags represents [opponent's username]_[nth match against the user]\n",
    "\n",
    "match1 = np.loadtxt(ddir+'match1.txt') #momentflix4_3\n",
    "match2 = np.loadtxt(ddir+'match2.txt') #idacutezzz_5\n",
    "match3 = np.loadtxt(ddir+'match3.txt') #idacutezzz_4\n",
    "match4 = np.loadtxt(ddir+'match4.txt') #zahra9896_1\n",
    "match5 = np.loadtxt(ddir+'match5.txt') #algocjo_1"
   ]
  },
  {
   "cell_type": "code",
   "execution_count": 4,
   "id": "1401da67",
   "metadata": {},
   "outputs": [
    {
     "data": {
      "text/plain": [
       "array([[0., 0., 0., 0., 0., 0., 0., 0., 0., 0.],\n",
       "       [0., 0., 0., 0., 0., 0., 1., 1., 1., 1.],\n",
       "       [0., 0., 0., 0., 1., 1., 0., 0., 0., 0.],\n",
       "       [1., 1., 1., 1., 1., 0., 0., 0., 0., 0.],\n",
       "       [1., 1., 1., 1., 1., 0., 1., 0., 0., 0.],\n",
       "       [0., 0., 0., 0., 0., 0., 1., 0., 0., 0.],\n",
       "       [0., 0., 0., 0., 0., 0., 1., 0., 0., 0.],\n",
       "       [0., 0., 0., 0., 0., 1., 1., 0., 0., 0.],\n",
       "       [0., 0., 0., 0., 0., 1., 1., 0., 0., 0.],\n",
       "       [0., 0., 1., 1., 1., 0., 0., 0., 0., 0.]])"
      ]
     },
     "execution_count": 4,
     "metadata": {},
     "output_type": "execute_result"
    }
   ],
   "source": [
    "match1"
   ]
  },
  {
   "cell_type": "code",
   "execution_count": 5,
   "id": "483ceeb8",
   "metadata": {},
   "outputs": [],
   "source": [
    "probability=np.zeros((10,10))"
   ]
  },
  {
   "cell_type": "code",
   "execution_count": 6,
   "id": "0791abca",
   "metadata": {},
   "outputs": [
    {
     "data": {
      "text/plain": [
       "array([[0., 0., 0., 0., 0., 0., 0., 0., 0., 0.],\n",
       "       [0., 0., 0., 0., 0., 0., 0., 0., 0., 0.],\n",
       "       [0., 0., 0., 0., 0., 0., 0., 0., 0., 0.],\n",
       "       [0., 0., 0., 0., 0., 0., 0., 0., 0., 0.],\n",
       "       [0., 0., 0., 0., 0., 0., 0., 0., 0., 0.],\n",
       "       [0., 0., 0., 0., 0., 0., 0., 0., 0., 0.],\n",
       "       [0., 0., 0., 0., 0., 0., 0., 0., 0., 0.],\n",
       "       [0., 0., 0., 0., 0., 0., 0., 0., 0., 0.],\n",
       "       [0., 0., 0., 0., 0., 0., 0., 0., 0., 0.],\n",
       "       [0., 0., 0., 0., 0., 0., 0., 0., 0., 0.]])"
      ]
     },
     "execution_count": 6,
     "metadata": {},
     "output_type": "execute_result"
    }
   ],
   "source": [
    "probability"
   ]
  },
  {
   "cell_type": "code",
   "execution_count": 10,
   "id": "f59b5971",
   "metadata": {},
   "outputs": [
    {
     "data": {
      "text/plain": [
       "array([[  0.,   0.,   0.,   0.,   0.,   0.,  50.,  50.,   0.,   0.],\n",
       "       [  0.,  50.,  50.,  50.,  50.,  50.,  50.,  50.,  50.,  50.],\n",
       "       [  0.,  50.,  50.,  50., 100., 100.,   0.,   0.,   0.,   0.],\n",
       "       [ 50.,  50.,  50.,  50.,  50.,   0.,   0.,   0.,   0.,   0.],\n",
       "       [100., 100., 100.,  50.,  50.,   0.,  50.,   0.,   0.,   0.],\n",
       "       [  0.,   0.,   0.,   0.,   0.,   0.,  50.,   0.,   0.,   0.],\n",
       "       [  0.,  50.,   0.,   0.,   0.,  50.,  50.,   0.,   0.,   0.],\n",
       "       [  0.,  50.,   0.,   0.,   0., 100.,  50.,   0.,   0.,   0.],\n",
       "       [  0.,  50.,  50.,  50.,  50., 100., 100.,   0.,   0.,   0.],\n",
       "       [  0.,  50.,  50.,  50.,  50.,   0.,   0.,   0.,   0.,   0.]])"
      ]
     },
     "execution_count": 10,
     "metadata": {},
     "output_type": "execute_result"
    }
   ],
   "source": [
    "(match1 + match2)*100/2"
   ]
  },
  {
   "cell_type": "markdown",
   "id": "a16f55f0",
   "metadata": {},
   "source": [
    "Probability array = sum(matches)*100/matches"
   ]
  },
  {
   "cell_type": "code",
   "execution_count": 53,
   "id": "a8bb3619",
   "metadata": {},
   "outputs": [
    {
     "data": {
      "text/plain": [
       "<matplotlib.collections.QuadMesh at 0x7ff70a1d9f40>"
      ]
     },
     "execution_count": 53,
     "metadata": {},
     "output_type": "execute_result"
    },
    {
     "data": {
      "image/png": "[encoded data removed]",
      "text/plain": [
       "<Figure size 432x288 with 1 Axes>"
      ]
     },
     "metadata": {
      "needs_background": "light"
     },
     "output_type": "display_data"
    }
   ],
   "source": [
    "# Testing for types of data visualisation\n",
    "\n",
    "# pcolormesh\n",
    "\n",
    "np.random.seed(19680801)\n",
    "Z = np.random.rand(10, 10)\n",
    "x = np.arange(0, 10, 1)  # len = 11\n",
    "y = np.arange(0, 10, 1)  # len = 7\n",
    "\n",
    "fig, ax = plt.subplots()\n",
    "ax.pcolormesh(x, y, Z)"
   ]
  },
  {
   "cell_type": "code",
   "execution_count": 51,
   "id": "1a00abeb",
   "metadata": {},
   "outputs": [
    {
     "data": {
      "text/plain": [
       "Text(0.5, 1.0, '2 matches')"
      ]
     },
     "execution_count": 51,
     "metadata": {},
     "output_type": "execute_result"
    },
    {
     "data": {
      "image/png": "[encoded data removed]",
      "text/plain": [
       "<Figure size 432x288 with 1 Axes>"
      ]
     },
     "metadata": {
      "needs_background": "light"
     },
     "output_type": "display_data"
    }
   ],
   "source": [
    "np.random.seed(19680801)\n",
    "Z = (match1 + match2)*100/2\n",
    "x = np.arange(0, 10, 1)  # len = 11\n",
    "y = np.arange(0, 10, 1)  # len = 7\n",
    "\n",
    "fig, ax = plt.subplots()\n",
    "ax.pcolormesh(x, y, Z[::-1])\n",
    "plt.title('2 matches')"
   ]
  },
  {
   "cell_type": "code",
   "execution_count": 33,
   "id": "765edf37",
   "metadata": {},
   "outputs": [
    {
     "data": {
      "text/plain": [
       "array([[  0.,   0.,   0.,   0.,   0.,   0.,  50.,  50.,   0.,   0.],\n",
       "       [  0.,  50.,  50.,  50.,  50.,  50.,  50.,  50.,  50.,  50.],\n",
       "       [  0.,  50.,  50.,  50., 100., 100.,   0.,   0.,   0.,   0.],\n",
       "       [ 50.,  50.,  50.,  50.,  50.,   0.,   0.,   0.,   0.,   0.],\n",
       "       [100., 100., 100.,  50.,  50.,   0.,  50.,   0.,   0.,   0.],\n",
       "       [  0.,   0.,   0.,   0.,   0.,   0.,  50.,   0.,   0.,   0.],\n",
       "       [  0.,  50.,   0.,   0.,   0.,  50.,  50.,   0.,   0.,   0.],\n",
       "       [  0.,  50.,   0.,   0.,   0., 100.,  50.,   0.,   0.,   0.],\n",
       "       [  0.,  50.,  50.,  50.,  50., 100., 100.,   0.,   0.,   0.],\n",
       "       [  0.,  50.,  50.,  50.,  50.,   0.,   0.,   0.,   0.,   0.]])"
      ]
     },
     "execution_count": 33,
     "metadata": {},
     "output_type": "execute_result"
    }
   ],
   "source": [
    "Z"
   ]
  },
  {
   "cell_type": "code",
   "execution_count": 44,
   "id": "2c72a914",
   "metadata": {},
   "outputs": [
    {
     "data": {
      "text/plain": [
       "Text(0.5, 1.0, '3 matches')"
      ]
     },
     "execution_count": 44,
     "metadata": {},
     "output_type": "execute_result"
    },
    {
     "data": {
      "image/png": "[encoded data removed]",
      "text/plain": [
       "<Figure size 432x288 with 1 Axes>"
      ]
     },
     "metadata": {
      "needs_background": "light"
     },
     "output_type": "display_data"
    }
   ],
   "source": [
    "np.random.seed(19680801)\n",
    "Z = (match1 + match2 + match3)*100/3\n",
    "x = np.arange(0, 10, 1)\n",
    "y = np.arange(0, 10, 1)\n",
    "\n",
    "fig, ax = plt.subplots()\n",
    "ax.pcolormesh(x, y, Z[::-1])\n",
    "plt.title('3 matches')"
   ]
  },
  {
   "cell_type": "code",
   "execution_count": 56,
   "id": "086b92e1",
   "metadata": {},
   "outputs": [
    {
     "name": "stdout",
     "output_type": "stream",
     "text": [
      "[[ 0.  0.  0.  0.  0.  0. 50. 50.  0.  0.]\n",
      " [ 0. 25. 25. 25. 25. 50. 50. 25. 25. 25.]\n",
      " [ 0. 25. 25. 25. 50. 75. 25.  0.  0.  0.]\n",
      " [75. 75. 25. 75. 50. 50. 50. 25.  0.  0.]\n",
      " [75. 75. 50. 50. 25. 25. 50.  0.  0.  0.]\n",
      " [25. 25.  0. 25.  0. 25. 50.  0. 25.  0.]\n",
      " [25. 50.  0.  0.  0. 25. 25. 25. 50. 25.]\n",
      " [25. 50. 25.  0. 25. 75. 50. 25. 25.  0.]\n",
      " [ 0. 25. 50. 25. 25. 50. 50.  0. 25.  0.]\n",
      " [ 0. 25. 25. 50. 50. 25. 25. 25. 50.  0.]]\n"
     ]
    },
    {
     "data": {
      "image/png": "[encoded data removed]",
      "text/plain": [
       "<Figure size 432x288 with 1 Axes>"
      ]
     },
     "metadata": {
      "needs_background": "light"
     },
     "output_type": "display_data"
    }
   ],
   "source": [
    "#np.random.seed(19680801)\n",
    "Z = (match1 + match2 + match3 + match4)*100/4\n",
    "x = np.arange(0, 10, 1)\n",
    "y = np.arange(0, 10, 1)\n",
    "\n",
    "fig, ax = plt.subplots()\n",
    "ax.pcolormesh(x, y, Z[::-1])\n",
    "plt.title('4 matches')\n",
    "\n",
    "print(Z)"
   ]
  },
  {
   "cell_type": "code",
   "execution_count": 58,
   "id": "4692a117",
   "metadata": {},
   "outputs": [
    {
     "name": "stdout",
     "output_type": "stream",
     "text": [
      "[[ 0.  0.  0.  0.  0.  0. 40. 40.  0.  0.]\n",
      " [ 0. 40. 20. 20. 40. 60. 60. 40. 40. 20.]\n",
      " [ 0. 40. 20. 20. 40. 60. 20.  0.  0.  0.]\n",
      " [60. 80. 20. 60. 40. 40. 40. 20.  0.  0.]\n",
      " [60. 60. 40. 60. 40. 40. 60.  0.  0.  0.]\n",
      " [20. 20.  0. 20.  0. 20. 40.  0. 20.  0.]\n",
      " [20. 40. 20.  0.  0. 20. 20. 20. 40. 20.]\n",
      " [20. 40. 40.  0. 20. 80. 60. 40. 40. 20.]\n",
      " [ 0. 20. 40. 20. 20. 60. 60. 20. 40. 20.]\n",
      " [ 0. 20. 20. 40. 40. 20. 40. 40. 40.  0.]]\n"
     ]
    },
    {
     "data": {
      "image/png": "[encoded data removed]",
      "text/plain": [
       "<Figure size 432x288 with 1 Axes>"
      ]
     },
     "metadata": {
      "needs_background": "light"
     },
     "output_type": "display_data"
    }
   ],
   "source": [
    "#np.random.seed(19680801)\n",
    "Z = (match1 + match2 + match3 + match4 + match5)*100/5\n",
    "x = np.arange(0, 10, 1)\n",
    "y = np.arange(0, 10, 1)\n",
    "\n",
    "fig, ax = plt.subplots()\n",
    "ax.pcolormesh(x, y, Z[::-1])\n",
    "plt.title('5 matches')\n",
    "\n",
    "print(Z)"
   ]
  },
  {
   "cell_type": "code",
   "execution_count": 61,
   "id": "70086f4a",
   "metadata": {},
   "outputs": [
    {
     "data": {
      "text/plain": [
       "array([[0., 0., 0., 0., 0., 0., 1., 1., 0., 0.],\n",
       "       [0., 0., 0., 0., 0., 0., 0., 0., 0., 0.],\n",
       "       [0., 0., 0., 0., 0., 0., 0., 0., 0., 0.],\n",
       "       [1., 1., 0., 1., 1., 1., 1., 1., 0., 0.],\n",
       "       [1., 1., 0., 0., 0., 0., 0., 0., 0., 0.],\n",
       "       [1., 1., 0., 0., 0., 0., 0., 0., 0., 0.],\n",
       "       [1., 1., 0., 0., 0., 0., 0., 1., 1., 1.],\n",
       "       [1., 1., 0., 0., 1., 1., 1., 1., 0., 0.],\n",
       "       [0., 0., 0., 0., 0., 0., 0., 0., 0., 0.],\n",
       "       [0., 0., 0., 0., 0., 0., 0., 1., 1., 0.]])"
      ]
     },
     "execution_count": 61,
     "metadata": {},
     "output_type": "execute_result"
    }
   ],
   "source": [
    "match4"
   ]
  },
  {
   "cell_type": "markdown",
   "id": "9f5dc95f",
   "metadata": {},
   "source": [
    "## what to do next\n",
    "\n",
    "better data visualization"
   ]
  }
 ],
 "metadata": {
  "kernelspec": {
   "display_name": "Python 3 (ipykernel)",
   "language": "python",
   "name": "python3"
  },
  "language_info": {
   "codemirror_mode": {
    "name": "ipython",
    "version": 3
   },
   "file_extension": ".py",
   "mimetype": "text/x-python",
   "name": "python",
   "nbconvert_exporter": "python",
   "pygments_lexer": "ipython3",
   "version": "3.9.12"
  }
 },
 "nbformat": 4,
 "nbformat_minor": 5
}
