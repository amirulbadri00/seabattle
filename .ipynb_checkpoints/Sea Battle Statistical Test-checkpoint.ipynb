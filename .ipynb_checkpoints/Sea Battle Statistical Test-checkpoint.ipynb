{
 "cells": [
  {
   "cell_type": "markdown",
   "id": "5eb96ea6",
   "metadata": {},
   "source": [
    "# Sea Battle Statistical (Self) Project\n",
    "\n",
    "Sea Battle is an online game on a mobile gaming app called 'Plato'. It is an online version of the traditional board game 'Battleship' with slight modifications.\n",
    "\n",
    "Players are given 6 ships of different sizes and they are arranged on a 10x10 square tiles before the game commence. Each player can shoot one tile per turn. If the shot hits a ship, the shooting player may perform another shot. The first player to shoot down all of the enemy's ship wins the game.\n",
    "\n",
    "This investigation aims to find the probability of hitting a ship on any square tiles based on the position of enemies' ships from completed games.\n",
    "\n",
    "Finding the probability of a square box containing a ship can be figured by the folloiwng equation:\n",
    "\n",
    "Total possibilities (by adding all the matches) / number of matches (total match files) = average possibility of hitting a ship on a suare box"
   ]
  },
  {
   "cell_type": "code",
   "execution_count": 1,
   "id": "537f00ab",
   "metadata": {},
   "outputs": [],
   "source": [
    "# importing relevant packages\n",
    "\n",
    "import numpy as np\n",
    "import matplotlib.pyplot as plt\n",
    "from matplotlib.colors import BoundaryNorm\n",
    "from matplotlib.ticker import MaxNLocator\n",
    "import glob\n",
    "import os\n",
    "\n",
    "ddir = '/Users/XcaliburZee/seabattle/Matches/'"
   ]
  },
  {
   "cell_type": "code",
   "execution_count": 7,
   "id": "fecbd574",
   "metadata": {},
   "outputs": [
    {
     "name": "stdout",
     "output_type": "stream",
     "text": [
      "['match2.txt', 'match16.txt', 'match17.txt', 'match3.txt', 'match1.txt', 'match15.txt', 'match29.txt', 'match28.txt', 'match14.txt', 'match4.txt', 'match38.txt', 'match10.txt', 'match11.txt', 'match39.txt', 'match5.txt', 'match7.txt', 'match13.txt', 'match12.txt', 'match6.txt', 'match40.txt', 'match41.txt', 'match43.txt', 'match42.txt', 'match46.txt', 'match45.txt', 'match44.txt', 'match37.txt', 'match23.txt', 'match22.txt', 'match36.txt', 'match8.txt', 'match20.txt', 'match34.txt', 'match35.txt', 'match21.txt', 'match9.txt', 'match19.txt', 'match25.txt', 'match31.txt', 'match30.txt', 'match24.txt', 'match18.txt', 'match32.txt', 'match26.txt', 'match27.txt', 'match33.txt']\n",
      "46\n"
     ]
    }
   ],
   "source": [
    "# Finding the number of match files\n",
    "\n",
    "os.chdir(ddir)\n",
    "my_files = glob.glob('*.txt')\n",
    "print(my_files)\n",
    "# print(len(my_files))"
   ]
  },
  {
   "cell_type": "code",
   "execution_count": 8,
   "id": "60923e6e",
   "metadata": {},
   "outputs": [],
   "source": [
    "# Creating a decitionary for all the matches\n",
    "\n",
    "all_match = {}\n",
    "for i in range(1,len(my_files)+1):\n",
    "    var = f'match{i}'\n",
    "    val = np.loadtxt(ddir+f'match{i}.txt')\n",
    "    all_match.update({var:val})"
   ]
  },
  {
   "cell_type": "code",
   "execution_count": 9,
   "id": "0634305d",
   "metadata": {},
   "outputs": [
    {
     "name": "stdout",
     "output_type": "stream",
     "text": [
      "[[20. 20. 24. 26. 26. 15. 24. 22. 17. 11.]\n",
      " [22. 28. 22. 20. 33. 28. 33. 37. 46. 11.]\n",
      " [24. 35. 26. 26. 37. 33. 26. 26. 37. 15.]\n",
      " [30. 33. 24. 26. 35. 37. 28. 24. 37. 15.]\n",
      " [33. 30. 33. 28. 33. 35. 26. 24. 37. 11.]\n",
      " [28. 20. 28. 22. 22. 33. 24. 28. 48. 17.]\n",
      " [26. 20. 26. 13. 13. 28. 20. 20. 33. 17.]\n",
      " [20. 22. 33. 28. 26. 43. 30. 24. 35. 17.]\n",
      " [15. 20. 35. 33. 35. 41. 33. 24. 41. 22.]\n",
      " [11. 20. 30. 24. 20. 20. 15. 13. 22. 15.]]\n"
     ]
    },
    {
     "data": {
      "image/png": "[encoded data removed]",
      "text/plain": [
       "<Figure size 432x288 with 2 Axes>"
      ]
     },
     "metadata": {
      "needs_background": "light"
     },
     "output_type": "display_data"
    }
   ],
   "source": [
    "Z = 0                                # Let Z be the total possibilities\n",
    "for i in range(1,len(my_files)+1):\n",
    "    \n",
    "    Z += all_match.get(f'match{i}')  # Adding up all the matches into Z\n",
    "    \n",
    "Z = Z*100/len(my_files)              # to get the average probability across 20 matches\n",
    "x = np.arange(0, 10, 1)\n",
    "y = np.arange(0, 10, 1)\n",
    "\n",
    "\n",
    "\n",
    "# making the levels\n",
    "levels = MaxNLocator(nbins=15).tick_values(Z.min(), Z.max())\n",
    "cmap = plt.colormaps['gray']\n",
    "norm = BoundaryNorm(levels, ncolors=cmap.N, clip=True)\n",
    "\n",
    "fig, ax = plt.subplots()\n",
    "im = ax.pcolormesh(x, y, Z[::-1], cmap=cmap, norm=norm)\n",
    "fig.colorbar(im, ax=ax)\n",
    "\n",
    "plt.title(f'{len(my_files)} matches')\n",
    "\n",
    "print(np.round(Z))\n",
    "\n",
    "\n"
   ]
  },
  {
   "cell_type": "markdown",
   "id": "9e36be3f",
   "metadata": {},
   "source": [
    "What to do next\n",
    "\n",
    "* Check codes below if any is useful/to improve workflow\n",
    "* Choose a good colour theme for colourmap"
   ]
  },
  {
   "cell_type": "code",
   "execution_count": null,
   "id": "62e07de9",
   "metadata": {},
   "outputs": [],
   "source": []
  },
  {
   "cell_type": "code",
   "execution_count": null,
   "id": "acbdcca9",
   "metadata": {},
   "outputs": [],
   "source": []
  },
  {
   "cell_type": "code",
   "execution_count": null,
   "id": "2fb3b4fb",
   "metadata": {},
   "outputs": [],
   "source": []
  },
  {
   "cell_type": "code",
   "execution_count": null,
   "id": "b0ef4f8c",
   "metadata": {},
   "outputs": [],
   "source": []
  },
  {
   "cell_type": "code",
   "execution_count": null,
   "id": "c4513c0d",
   "metadata": {},
   "outputs": [],
   "source": []
  },
  {
   "cell_type": "code",
   "execution_count": 53,
   "id": "a8bb3619",
   "metadata": {},
   "outputs": [
    {
     "data": {
      "text/plain": [
       "<matplotlib.collections.QuadMesh at 0x7ff70a1d9f40>"
      ]
     },
     "execution_count": 53,
     "metadata": {},
     "output_type": "execute_result"
    },
    {
     "data": {
      "image/png": "[encoded data removed]",
      "text/plain": [
       "<Figure size 432x288 with 1 Axes>"
      ]
     },
     "metadata": {
      "needs_background": "light"
     },
     "output_type": "display_data"
    }
   ],
   "source": [
    "# Testing for types of data visualisation\n",
    "\n",
    "# pcolormesh\n",
    "\n",
    "np.random.seed(19680801)\n",
    "Z = np.random.rand(10, 10)\n",
    "x = np.arange(0, 10, 1)  # len = 11\n",
    "y = np.arange(0, 10, 1)  # len = 7\n",
    "\n",
    "fig, ax = plt.subplots()\n",
    "ax.pcolormesh(x, y, Z)"
   ]
  },
  {
   "cell_type": "code",
   "execution_count": 51,
   "id": "1a00abeb",
   "metadata": {},
   "outputs": [
    {
     "data": {
      "text/plain": [
       "Text(0.5, 1.0, '2 matches')"
      ]
     },
     "execution_count": 51,
     "metadata": {},
     "output_type": "execute_result"
    },
    {
     "data": {
      "image/png": "[encoded data removed]",
      "text/plain": [
       "<Figure size 432x288 with 1 Axes>"
      ]
     },
     "metadata": {
      "needs_background": "light"
     },
     "output_type": "display_data"
    }
   ],
   "source": [
    "np.random.seed(19680801)\n",
    "Z = (match1 + match2)*100/2\n",
    "x = np.arange(0, 10, 1)  # len = 11\n",
    "y = np.arange(0, 10, 1)  # len = 7\n",
    "\n",
    "fig, ax = plt.subplots()\n",
    "ax.pcolormesh(x, y, Z[::-1])\n",
    "plt.title('2 matches')"
   ]
  },
  {
   "cell_type": "code",
   "execution_count": 33,
   "id": "765edf37",
   "metadata": {},
   "outputs": [
    {
     "data": {
      "text/plain": [
       "array([[  0.,   0.,   0.,   0.,   0.,   0.,  50.,  50.,   0.,   0.],\n",
       "       [  0.,  50.,  50.,  50.,  50.,  50.,  50.,  50.,  50.,  50.],\n",
       "       [  0.,  50.,  50.,  50., 100., 100.,   0.,   0.,   0.,   0.],\n",
       "       [ 50.,  50.,  50.,  50.,  50.,   0.,   0.,   0.,   0.,   0.],\n",
       "       [100., 100., 100.,  50.,  50.,   0.,  50.,   0.,   0.,   0.],\n",
       "       [  0.,   0.,   0.,   0.,   0.,   0.,  50.,   0.,   0.,   0.],\n",
       "       [  0.,  50.,   0.,   0.,   0.,  50.,  50.,   0.,   0.,   0.],\n",
       "       [  0.,  50.,   0.,   0.,   0., 100.,  50.,   0.,   0.,   0.],\n",
       "       [  0.,  50.,  50.,  50.,  50., 100., 100.,   0.,   0.,   0.],\n",
       "       [  0.,  50.,  50.,  50.,  50.,   0.,   0.,   0.,   0.,   0.]])"
      ]
     },
     "execution_count": 33,
     "metadata": {},
     "output_type": "execute_result"
    }
   ],
   "source": [
    "Z"
   ]
  },
  {
   "cell_type": "code",
   "execution_count": 44,
   "id": "2c72a914",
   "metadata": {},
   "outputs": [
    {
     "data": {
      "text/plain": [
       "Text(0.5, 1.0, '3 matches')"
      ]
     },
     "execution_count": 44,
     "metadata": {},
     "output_type": "execute_result"
    },
    {
     "data": {
      "image/png": "[encoded data removed]",
      "text/plain": [
       "<Figure size 432x288 with 1 Axes>"
      ]
     },
     "metadata": {
      "needs_background": "light"
     },
     "output_type": "display_data"
    }
   ],
   "source": [
    "np.random.seed(19680801)\n",
    "Z = (match1 + match2 + match3)*100/3\n",
    "x = np.arange(0, 10, 1)\n",
    "y = np.arange(0, 10, 1)\n",
    "\n",
    "fig, ax = plt.subplots()\n",
    "ax.pcolormesh(x, y, Z[::-1])\n",
    "plt.title('3 matches')"
   ]
  },
  {
   "cell_type": "code",
   "execution_count": 56,
   "id": "086b92e1",
   "metadata": {},
   "outputs": [
    {
     "name": "stdout",
     "output_type": "stream",
     "text": [
      "[[ 0.  0.  0.  0.  0.  0. 50. 50.  0.  0.]\n",
      " [ 0. 25. 25. 25. 25. 50. 50. 25. 25. 25.]\n",
      " [ 0. 25. 25. 25. 50. 75. 25.  0.  0.  0.]\n",
      " [75. 75. 25. 75. 50. 50. 50. 25.  0.  0.]\n",
      " [75. 75. 50. 50. 25. 25. 50.  0.  0.  0.]\n",
      " [25. 25.  0. 25.  0. 25. 50.  0. 25.  0.]\n",
      " [25. 50.  0.  0.  0. 25. 25. 25. 50. 25.]\n",
      " [25. 50. 25.  0. 25. 75. 50. 25. 25.  0.]\n",
      " [ 0. 25. 50. 25. 25. 50. 50.  0. 25.  0.]\n",
      " [ 0. 25. 25. 50. 50. 25. 25. 25. 50.  0.]]\n"
     ]
    },
    {
     "data": {
      "image/png": "[encoded data removed]",
      "text/plain": [
       "<Figure size 432x288 with 1 Axes>"
      ]
     },
     "metadata": {
      "needs_background": "light"
     },
     "output_type": "display_data"
    }
   ],
   "source": [
    "#np.random.seed(19680801)\n",
    "Z = (match1 + match2 + match3 + match4)*100/4\n",
    "x = np.arange(0, 10, 1)\n",
    "y = np.arange(0, 10, 1)\n",
    "\n",
    "fig, ax = plt.subplots()\n",
    "ax.pcolormesh(x, y, Z[::-1])\n",
    "plt.title('4 matches')\n",
    "\n",
    "print(Z)"
   ]
  },
  {
   "cell_type": "code",
   "execution_count": 58,
   "id": "4692a117",
   "metadata": {},
   "outputs": [
    {
     "name": "stdout",
     "output_type": "stream",
     "text": [
      "[[ 0.  0.  0.  0.  0.  0. 40. 40.  0.  0.]\n",
      " [ 0. 40. 20. 20. 40. 60. 60. 40. 40. 20.]\n",
      " [ 0. 40. 20. 20. 40. 60. 20.  0.  0.  0.]\n",
      " [60. 80. 20. 60. 40. 40. 40. 20.  0.  0.]\n",
      " [60. 60. 40. 60. 40. 40. 60.  0.  0.  0.]\n",
      " [20. 20.  0. 20.  0. 20. 40.  0. 20.  0.]\n",
      " [20. 40. 20.  0.  0. 20. 20. 20. 40. 20.]\n",
      " [20. 40. 40.  0. 20. 80. 60. 40. 40. 20.]\n",
      " [ 0. 20. 40. 20. 20. 60. 60. 20. 40. 20.]\n",
      " [ 0. 20. 20. 40. 40. 20. 40. 40. 40.  0.]]\n"
     ]
    },
    {
     "data": {
      "image/png": "[encoded data removed]",
      "text/plain": [
       "<Figure size 432x288 with 1 Axes>"
      ]
     },
     "metadata": {
      "needs_background": "light"
     },
     "output_type": "display_data"
    }
   ],
   "source": [
    "#np.random.seed(19680801)\n",
    "Z = (match1 + match2 + match3 + match4 + match5)*100/5\n",
    "x = np.arange(0, 10, 1)\n",
    "y = np.arange(0, 10, 1)\n",
    "\n",
    "fig, ax = plt.subplots()\n",
    "ax.pcolormesh(x, y, Z[::-1])\n",
    "plt.title('5 matches')\n",
    "\n",
    "print(Z)"
   ]
  },
  {
   "cell_type": "code",
   "execution_count": null,
   "id": "1f61b9fe",
   "metadata": {},
   "outputs": [],
   "source": []
  }
 ],
 "metadata": {
  "kernelspec": {
   "display_name": "Python 3 (ipykernel)",
   "language": "python",
   "name": "python3"
  },
  "language_info": {
   "codemirror_mode": {
    "name": "ipython",
    "version": 3
   },
   "file_extension": ".py",
   "mimetype": "text/x-python",
   "name": "python",
   "nbconvert_exporter": "python",
   "pygments_lexer": "ipython3",
   "version": "3.9.12"
  }
 },
 "nbformat": 4,
 "nbformat_minor": 5
}
