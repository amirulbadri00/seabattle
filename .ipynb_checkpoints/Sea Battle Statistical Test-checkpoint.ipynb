{
 "cells": [
  {
   "cell_type": "markdown",
   "id": "5eb96ea6",
   "metadata": {},
   "source": [
    "# Sea Battle Statistical (Self) Project\n",
    "\n",
    "Sea Battle is an online game on a mobile gaming app called 'Plato'. It is an online version of the traditional board game 'Battleship' with slight modifications.\n",
    "\n",
    "Players are given 6 ships of different sizes and they are arranged on a 10x10 square tiles before the game commence. Each player can shoot one tile per turn. If the shot hits a ship, the shooting player may perform another shot. The first player to shoot down all of the enemy's ship wins the game.\n",
    "\n",
    "This investigation aims to find the probability of hitting a ship on any square tiles based on the position of enemies' ships from completed games."
   ]
  },
  {
   "cell_type": "code",
   "execution_count": 1,
   "id": "537f00ab",
   "metadata": {},
   "outputs": [],
   "source": [
    "# importing relevant packages\n",
    "\n",
    "import numpy as np\n",
    "import matplotlib.pyplot as plt\n",
    "from matplotlib.colors import BoundaryNorm\n",
    "from matplotlib.ticker import MaxNLocator\n",
    "\n",
    "ddir = '/Users/XcaliburZee/Desktop/Matches/'"
   ]
  },
  {
   "cell_type": "code",
   "execution_count": 3,
   "id": "37cee1b0",
   "metadata": {},
   "outputs": [],
   "source": [
    "# Loading all the data from the Matches file\n",
    "# Hashtags represents opponent's username(nth match against the user)\n",
    "\n",
    "match1 = np.loadtxt(ddir+'match1.txt')    #momentflix4(3)\n",
    "match2 = np.loadtxt(ddir+'match2.txt')    #idacutezzz(5)\n",
    "match3 = np.loadtxt(ddir+'match3.txt')    #idacutezzz(4)\n",
    "match4 = np.loadtxt(ddir+'match4.txt')    #zahra9896(1)\n",
    "match5 = np.loadtxt(ddir+'match5.txt')    #algocjo(1)\n",
    "match6 = np.loadtxt(ddir+'match6.txt')    #RODRIIIGO18(1)\n",
    "match7 = np.loadtxt(ddir+'match7.txt')    #pmrziv(1)\n",
    "match8 = np.loadtxt(ddir+'match8.txt')    #greeklion7(1)\n",
    "match9 = np.loadtxt(ddir+'match9.txt')    #PHOENIX07(2)\n",
    "match10 = np.loadtxt(ddir+'match10.txt')  #kixt_(1)\n",
    "match11 = np.loadtxt(ddir+'match11.txt')  #fereverrr(1)\n",
    "match12 = np.loadtxt(ddir+'match12.txt')  #Fatemeh998(1)\n",
    "match13 = np.loadtxt(ddir+'match13.txt')  #1Walking(1)\n",
    "match14 = np.loadtxt(ddir+'match14.txt')  #millweak3(1)\n",
    "match15 = np.loadtxt(ddir+'match15.txt')  #nayrobi(1)\n",
    "match16 = np.loadtxt(ddir+'match16.txt')  #iiiimm_0(1)\n",
    "match17 = np.loadtxt(ddir+'match17.txt')  #mochilaRemot(1)\n",
    "#match18 = np.loadtxt(ddir+'match18.txt')  #\n",
    "#match19 = np.loadtxt(ddir+'match19.txt')  #\n",
    "#match20 = np.loadtxt(ddir+'match20.txt')  #"
   ]
  },
  {
   "cell_type": "code",
   "execution_count": 4,
   "id": "1401da67",
   "metadata": {},
   "outputs": [
    {
     "data": {
      "text/plain": [
       "array([[0., 0., 0., 0., 0., 0., 0., 0., 0., 0.],\n",
       "       [0., 0., 0., 0., 0., 0., 1., 1., 1., 1.],\n",
       "       [0., 0., 0., 0., 1., 1., 0., 0., 0., 0.],\n",
       "       [1., 1., 1., 1., 1., 0., 0., 0., 0., 0.],\n",
       "       [1., 1., 1., 1., 1., 0., 1., 0., 0., 0.],\n",
       "       [0., 0., 0., 0., 0., 0., 1., 0., 0., 0.],\n",
       "       [0., 0., 0., 0., 0., 0., 1., 0., 0., 0.],\n",
       "       [0., 0., 0., 0., 0., 1., 1., 0., 0., 0.],\n",
       "       [0., 0., 0., 0., 0., 1., 1., 0., 0., 0.],\n",
       "       [0., 0., 1., 1., 1., 0., 0., 0., 0., 0.]])"
      ]
     },
     "execution_count": 4,
     "metadata": {},
     "output_type": "execute_result"
    }
   ],
   "source": [
    "match1"
   ]
  },
  {
   "cell_type": "code",
   "execution_count": 5,
   "id": "483ceeb8",
   "metadata": {},
   "outputs": [],
   "source": [
    "probability=np.zeros((10,10))"
   ]
  },
  {
   "cell_type": "code",
   "execution_count": 6,
   "id": "0791abca",
   "metadata": {},
   "outputs": [
    {
     "data": {
      "text/plain": [
       "array([[0., 0., 0., 0., 0., 0., 0., 0., 0., 0.],\n",
       "       [0., 0., 0., 0., 0., 0., 0., 0., 0., 0.],\n",
       "       [0., 0., 0., 0., 0., 0., 0., 0., 0., 0.],\n",
       "       [0., 0., 0., 0., 0., 0., 0., 0., 0., 0.],\n",
       "       [0., 0., 0., 0., 0., 0., 0., 0., 0., 0.],\n",
       "       [0., 0., 0., 0., 0., 0., 0., 0., 0., 0.],\n",
       "       [0., 0., 0., 0., 0., 0., 0., 0., 0., 0.],\n",
       "       [0., 0., 0., 0., 0., 0., 0., 0., 0., 0.],\n",
       "       [0., 0., 0., 0., 0., 0., 0., 0., 0., 0.],\n",
       "       [0., 0., 0., 0., 0., 0., 0., 0., 0., 0.]])"
      ]
     },
     "execution_count": 6,
     "metadata": {},
     "output_type": "execute_result"
    }
   ],
   "source": [
    "probability"
   ]
  },
  {
   "cell_type": "code",
   "execution_count": 10,
   "id": "f59b5971",
   "metadata": {},
   "outputs": [
    {
     "data": {
      "text/plain": [
       "array([[  0.,   0.,   0.,   0.,   0.,   0.,  50.,  50.,   0.,   0.],\n",
       "       [  0.,  50.,  50.,  50.,  50.,  50.,  50.,  50.,  50.,  50.],\n",
       "       [  0.,  50.,  50.,  50., 100., 100.,   0.,   0.,   0.,   0.],\n",
       "       [ 50.,  50.,  50.,  50.,  50.,   0.,   0.,   0.,   0.,   0.],\n",
       "       [100., 100., 100.,  50.,  50.,   0.,  50.,   0.,   0.,   0.],\n",
       "       [  0.,   0.,   0.,   0.,   0.,   0.,  50.,   0.,   0.,   0.],\n",
       "       [  0.,  50.,   0.,   0.,   0.,  50.,  50.,   0.,   0.,   0.],\n",
       "       [  0.,  50.,   0.,   0.,   0., 100.,  50.,   0.,   0.,   0.],\n",
       "       [  0.,  50.,  50.,  50.,  50., 100., 100.,   0.,   0.,   0.],\n",
       "       [  0.,  50.,  50.,  50.,  50.,   0.,   0.,   0.,   0.,   0.]])"
      ]
     },
     "execution_count": 10,
     "metadata": {},
     "output_type": "execute_result"
    }
   ],
   "source": [
    "(match1 + match2)*100/2"
   ]
  },
  {
   "cell_type": "markdown",
   "id": "a16f55f0",
   "metadata": {},
   "source": [
    "Probability array = sum(matches)*100/matches"
   ]
  },
  {
   "cell_type": "code",
   "execution_count": 53,
   "id": "a8bb3619",
   "metadata": {},
   "outputs": [
    {
     "data": {
      "text/plain": [
       "<matplotlib.collections.QuadMesh at 0x7ff70a1d9f40>"
      ]
     },
     "execution_count": 53,
     "metadata": {},
     "output_type": "execute_result"
    },
    {
     "data": {
      "image/png": "[encoded data removed]",
      "text/plain": [
       "<Figure size 432x288 with 1 Axes>"
      ]
     },
     "metadata": {
      "needs_background": "light"
     },
     "output_type": "display_data"
    }
   ],
   "source": [
    "# Testing for types of data visualisation\n",
    "\n",
    "# pcolormesh\n",
    "\n",
    "np.random.seed(19680801)\n",
    "Z = np.random.rand(10, 10)\n",
    "x = np.arange(0, 10, 1)  # len = 11\n",
    "y = np.arange(0, 10, 1)  # len = 7\n",
    "\n",
    "fig, ax = plt.subplots()\n",
    "ax.pcolormesh(x, y, Z)"
   ]
  },
  {
   "cell_type": "code",
   "execution_count": 51,
   "id": "1a00abeb",
   "metadata": {},
   "outputs": [
    {
     "data": {
      "text/plain": [
       "Text(0.5, 1.0, '2 matches')"
      ]
     },
     "execution_count": 51,
     "metadata": {},
     "output_type": "execute_result"
    },
    {
     "data": {
      "image/png": "[encoded data removed]",
      "text/plain": [
       "<Figure size 432x288 with 1 Axes>"
      ]
     },
     "metadata": {
      "needs_background": "light"
     },
     "output_type": "display_data"
    }
   ],
   "source": [
    "np.random.seed(19680801)\n",
    "Z = (match1 + match2)*100/2\n",
    "x = np.arange(0, 10, 1)  # len = 11\n",
    "y = np.arange(0, 10, 1)  # len = 7\n",
    "\n",
    "fig, ax = plt.subplots()\n",
    "ax.pcolormesh(x, y, Z[::-1])\n",
    "plt.title('2 matches')"
   ]
  },
  {
   "cell_type": "code",
   "execution_count": 33,
   "id": "765edf37",
   "metadata": {},
   "outputs": [
    {
     "data": {
      "text/plain": [
       "array([[  0.,   0.,   0.,   0.,   0.,   0.,  50.,  50.,   0.,   0.],\n",
       "       [  0.,  50.,  50.,  50.,  50.,  50.,  50.,  50.,  50.,  50.],\n",
       "       [  0.,  50.,  50.,  50., 100., 100.,   0.,   0.,   0.,   0.],\n",
       "       [ 50.,  50.,  50.,  50.,  50.,   0.,   0.,   0.,   0.,   0.],\n",
       "       [100., 100., 100.,  50.,  50.,   0.,  50.,   0.,   0.,   0.],\n",
       "       [  0.,   0.,   0.,   0.,   0.,   0.,  50.,   0.,   0.,   0.],\n",
       "       [  0.,  50.,   0.,   0.,   0.,  50.,  50.,   0.,   0.,   0.],\n",
       "       [  0.,  50.,   0.,   0.,   0., 100.,  50.,   0.,   0.,   0.],\n",
       "       [  0.,  50.,  50.,  50.,  50., 100., 100.,   0.,   0.,   0.],\n",
       "       [  0.,  50.,  50.,  50.,  50.,   0.,   0.,   0.,   0.,   0.]])"
      ]
     },
     "execution_count": 33,
     "metadata": {},
     "output_type": "execute_result"
    }
   ],
   "source": [
    "Z"
   ]
  },
  {
   "cell_type": "code",
   "execution_count": 44,
   "id": "2c72a914",
   "metadata": {},
   "outputs": [
    {
     "data": {
      "text/plain": [
       "Text(0.5, 1.0, '3 matches')"
      ]
     },
     "execution_count": 44,
     "metadata": {},
     "output_type": "execute_result"
    },
    {
     "data": {
      "image/png": "[encoded data removed]",
      "text/plain": [
       "<Figure size 432x288 with 1 Axes>"
      ]
     },
     "metadata": {
      "needs_background": "light"
     },
     "output_type": "display_data"
    }
   ],
   "source": [
    "np.random.seed(19680801)\n",
    "Z = (match1 + match2 + match3)*100/3\n",
    "x = np.arange(0, 10, 1)\n",
    "y = np.arange(0, 10, 1)\n",
    "\n",
    "fig, ax = plt.subplots()\n",
    "ax.pcolormesh(x, y, Z[::-1])\n",
    "plt.title('3 matches')"
   ]
  },
  {
   "cell_type": "code",
   "execution_count": 56,
   "id": "086b92e1",
   "metadata": {},
   "outputs": [
    {
     "name": "stdout",
     "output_type": "stream",
     "text": [
      "[[ 0.  0.  0.  0.  0.  0. 50. 50.  0.  0.]\n",
      " [ 0. 25. 25. 25. 25. 50. 50. 25. 25. 25.]\n",
      " [ 0. 25. 25. 25. 50. 75. 25.  0.  0.  0.]\n",
      " [75. 75. 25. 75. 50. 50. 50. 25.  0.  0.]\n",
      " [75. 75. 50. 50. 25. 25. 50.  0.  0.  0.]\n",
      " [25. 25.  0. 25.  0. 25. 50.  0. 25.  0.]\n",
      " [25. 50.  0.  0.  0. 25. 25. 25. 50. 25.]\n",
      " [25. 50. 25.  0. 25. 75. 50. 25. 25.  0.]\n",
      " [ 0. 25. 50. 25. 25. 50. 50.  0. 25.  0.]\n",
      " [ 0. 25. 25. 50. 50. 25. 25. 25. 50.  0.]]\n"
     ]
    },
    {
     "data": {
      "image/png": "[encoded data removed]",
      "text/plain": [
       "<Figure size 432x288 with 1 Axes>"
      ]
     },
     "metadata": {
      "needs_background": "light"
     },
     "output_type": "display_data"
    }
   ],
   "source": [
    "#np.random.seed(19680801)\n",
    "Z = (match1 + match2 + match3 + match4)*100/4\n",
    "x = np.arange(0, 10, 1)\n",
    "y = np.arange(0, 10, 1)\n",
    "\n",
    "fig, ax = plt.subplots()\n",
    "ax.pcolormesh(x, y, Z[::-1])\n",
    "plt.title('4 matches')\n",
    "\n",
    "print(Z)"
   ]
  },
  {
   "cell_type": "code",
   "execution_count": 58,
   "id": "4692a117",
   "metadata": {},
   "outputs": [
    {
     "name": "stdout",
     "output_type": "stream",
     "text": [
      "[[ 0.  0.  0.  0.  0.  0. 40. 40.  0.  0.]\n",
      " [ 0. 40. 20. 20. 40. 60. 60. 40. 40. 20.]\n",
      " [ 0. 40. 20. 20. 40. 60. 20.  0.  0.  0.]\n",
      " [60. 80. 20. 60. 40. 40. 40. 20.  0.  0.]\n",
      " [60. 60. 40. 60. 40. 40. 60.  0.  0.  0.]\n",
      " [20. 20.  0. 20.  0. 20. 40.  0. 20.  0.]\n",
      " [20. 40. 20.  0.  0. 20. 20. 20. 40. 20.]\n",
      " [20. 40. 40.  0. 20. 80. 60. 40. 40. 20.]\n",
      " [ 0. 20. 40. 20. 20. 60. 60. 20. 40. 20.]\n",
      " [ 0. 20. 20. 40. 40. 20. 40. 40. 40.  0.]]\n"
     ]
    },
    {
     "data": {
      "image/png": "[encoded data removed]",
      "text/plain": [
       "<Figure size 432x288 with 1 Axes>"
      ]
     },
     "metadata": {
      "needs_background": "light"
     },
     "output_type": "display_data"
    }
   ],
   "source": [
    "#np.random.seed(19680801)\n",
    "Z = (match1 + match2 + match3 + match4 + match5)*100/5\n",
    "x = np.arange(0, 10, 1)\n",
    "y = np.arange(0, 10, 1)\n",
    "\n",
    "fig, ax = plt.subplots()\n",
    "ax.pcolormesh(x, y, Z[::-1])\n",
    "plt.title('5 matches')\n",
    "\n",
    "print(Z)"
   ]
  },
  {
   "cell_type": "code",
   "execution_count": 61,
   "id": "70086f4a",
   "metadata": {},
   "outputs": [
    {
     "data": {
      "text/plain": [
       "array([[0., 0., 0., 0., 0., 0., 1., 1., 0., 0.],\n",
       "       [0., 0., 0., 0., 0., 0., 0., 0., 0., 0.],\n",
       "       [0., 0., 0., 0., 0., 0., 0., 0., 0., 0.],\n",
       "       [1., 1., 0., 1., 1., 1., 1., 1., 0., 0.],\n",
       "       [1., 1., 0., 0., 0., 0., 0., 0., 0., 0.],\n",
       "       [1., 1., 0., 0., 0., 0., 0., 0., 0., 0.],\n",
       "       [1., 1., 0., 0., 0., 0., 0., 1., 1., 1.],\n",
       "       [1., 1., 0., 0., 1., 1., 1., 1., 0., 0.],\n",
       "       [0., 0., 0., 0., 0., 0., 0., 0., 0., 0.],\n",
       "       [0., 0., 0., 0., 0., 0., 0., 1., 1., 0.]])"
      ]
     },
     "execution_count": 61,
     "metadata": {},
     "output_type": "execute_result"
    }
   ],
   "source": [
    "match4"
   ]
  },
  {
   "cell_type": "markdown",
   "id": "9f5dc95f",
   "metadata": {},
   "source": [
    "## what to do next\n",
    "\n",
    "better data visualization"
   ]
  },
  {
   "cell_type": "code",
   "execution_count": 6,
   "id": "212af398",
   "metadata": {},
   "outputs": [
    {
     "name": "stdout",
     "output_type": "stream",
     "text": [
      "[[29. 24. 29. 29. 35. 18. 29. 18. 18. 12.]\n",
      " [18. 35. 18. 24. 29. 29. 41. 35. 41. 18.]\n",
      " [12. 47. 29. 35. 41. 29. 18. 12. 24. 12.]\n",
      " [29. 53. 18. 29. 24. 35. 35. 24. 29. 12.]\n",
      " [29. 47. 41. 35. 35. 35. 41. 18. 29. 12.]\n",
      " [18. 24. 18. 12. 12. 24. 29. 18. 41. 18.]\n",
      " [24. 24. 18.  6. 12. 29. 24. 12. 29. 12.]\n",
      " [18. 18. 24. 24. 35. 59. 41. 24. 41. 18.]\n",
      " [ 6.  6. 29. 24. 24. 47. 41. 18. 47. 24.]\n",
      " [12. 24. 35. 29. 24. 24. 18. 18. 29. 24.]]\n"
     ]
    },
    {
     "data": {
      "image/png": "[encoded data removed]",
      "text/plain": [
       "<Figure size 432x288 with 2 Axes>"
      ]
     },
     "metadata": {
      "needs_background": "light"
     },
     "output_type": "display_data"
    }
   ],
   "source": [
    "Z = (match1 + match2 + match3 + match4 + match5 + match6 + match7 + match8 + match9 + match10 + match11 + match12 + match13 + match14 + match15 + match16 + match17)*100/17\n",
    "x = np.arange(0, 10, 1)\n",
    "y = np.arange(0, 10, 1)\n",
    "\n",
    "\n",
    "\n",
    "# making the levels\n",
    "levels = MaxNLocator(nbins=15).tick_values(Z.min(), Z.max())\n",
    "cmap = plt.colormaps['gray']\n",
    "norm = BoundaryNorm(levels, ncolors=cmap.N, clip=True)\n",
    "\n",
    "fig, ax = plt.subplots()\n",
    "im = ax.pcolormesh(x, y, Z[::-1], cmap=cmap, norm=norm)\n",
    "fig.colorbar(im, ax=ax)\n",
    "\n",
    "plt.title('17 matches')\n",
    "\n",
    "print(np.round(Z))\n",
    "\n"
   ]
  },
  {
   "cell_type": "markdown",
   "id": "4fa7b6fb",
   "metadata": {},
   "source": [
    "# What to do next\n",
    "\n",
    "simplify the loading of all files into each variables"
   ]
  },
  {
   "cell_type": "code",
   "execution_count": 18,
   "id": "bc5e2fc4",
   "metadata": {},
   "outputs": [
    {
     "name": "stdout",
     "output_type": "stream",
     "text": [
      "['match2.txt', 'match16.txt', 'match17.txt', 'match3.txt', 'match1.txt', 'match15.txt', 'match14.txt', 'match4.txt', 'match10.txt', 'match11.txt', 'match5.txt', 'match7.txt', 'match13.txt', 'match12.txt', 'match6.txt', 'match8.txt', 'match9.txt']\n"
     ]
    }
   ],
   "source": [
    "import glob\n",
    "import os\n",
    "\n",
    "\n",
    "os.chdir(r'/Users/XcaliburZee/Desktop/Matches')\n",
    "my_files = glob.glob('*.txt')\n",
    "print(my_files)"
   ]
  },
  {
   "cell_type": "code",
   "execution_count": 25,
   "id": "e911c8cc",
   "metadata": {},
   "outputs": [],
   "source": [
    "for i in range(1,11):\n",
    "    var_name = f'var{i}'\n",
    "    value = np.loadtxt(ddir+f'match{i}.txt')\n",
    "    globals()[var_name]=value"
   ]
  },
  {
   "cell_type": "code",
   "execution_count": 37,
   "id": "6df9c24f",
   "metadata": {},
   "outputs": [
    {
     "data": {
      "text/plain": [
       "array([[0., 0., 0., 0., 0., 0., 0., 0., 0., 0.],\n",
       "       [0., 0., 0., 0., 0., 0., 0., 0., 0., 0.],\n",
       "       [0., 0., 0., 0., 0., 0., 0., 0., 0., 0.],\n",
       "       [0., 0., 0., 0., 0., 0., 0., 0., 0., 0.],\n",
       "       [0., 0., 0., 0., 0., 0., 0., 0., 0., 0.],\n",
       "       [0., 0., 0., 0., 0., 0., 0., 0., 0., 0.],\n",
       "       [0., 0., 0., 0., 0., 0., 0., 0., 0., 0.],\n",
       "       [0., 0., 0., 0., 0., 0., 0., 0., 0., 0.],\n",
       "       [0., 0., 0., 0., 0., 0., 0., 0., 0., 0.],\n",
       "       [0., 0., 0., 0., 0., 0., 0., 0., 0., 0.]])"
      ]
     },
     "execution_count": 37,
     "metadata": {},
     "output_type": "execute_result"
    }
   ],
   "source": [
    "var1 - match1"
   ]
  },
  {
   "cell_type": "code",
   "execution_count": 38,
   "id": "3d3306ff",
   "metadata": {},
   "outputs": [
    {
     "ename": "SyntaxError",
     "evalue": "invalid syntax (1756835170.py, line 2)",
     "output_type": "error",
     "traceback": [
      "\u001b[0;36m  Input \u001b[0;32mIn [38]\u001b[0;36m\u001b[0m\n\u001b[0;31m    test = (var.%s - match.%s) % i\u001b[0m\n\u001b[0m                ^\u001b[0m\n\u001b[0;31mSyntaxError\u001b[0m\u001b[0;31m:\u001b[0m invalid syntax\n"
     ]
    }
   ],
   "source": [
    "for i in range(1,11):\n",
    "    test = var{i} - match{i}\n",
    "    print(test)"
   ]
  },
  {
   "cell_type": "code",
   "execution_count": 43,
   "id": "c60efc59",
   "metadata": {},
   "outputs": [
    {
     "ename": "SyntaxError",
     "evalue": "invalid syntax (3157914794.py, line 2)",
     "output_type": "error",
     "traceback": [
      "\u001b[0;36m  Input \u001b[0;32mIn [43]\u001b[0;36m\u001b[0m\n\u001b[0;31m    total += var{i}\u001b[0m\n\u001b[0m                ^\u001b[0m\n\u001b[0;31mSyntaxError\u001b[0m\u001b[0;31m:\u001b[0m invalid syntax\n"
     ]
    }
   ],
   "source": [
    "for i in range(1,11):\n",
    "    total += var\n",
    "print(total)"
   ]
  },
  {
   "cell_type": "markdown",
   "id": "ae331259",
   "metadata": {},
   "source": [
    "# What to do next\n",
    "\n",
    "figure out how to test for var1-match1 in a loop\n",
    "continue test data until match20\n",
    "pick the right colour for the colourmap\n",
    "re write all the code in a neat manner"
   ]
  }
 ],
 "metadata": {
  "kernelspec": {
   "display_name": "Python 3 (ipykernel)",
   "language": "python",
   "name": "python3"
  },
  "language_info": {
   "codemirror_mode": {
    "name": "ipython",
    "version": 3
   },
   "file_extension": ".py",
   "mimetype": "text/x-python",
   "name": "python",
   "nbconvert_exporter": "python",
   "pygments_lexer": "ipython3",
   "version": "3.9.12"
  }
 },
 "nbformat": 4,
 "nbformat_minor": 5
}
